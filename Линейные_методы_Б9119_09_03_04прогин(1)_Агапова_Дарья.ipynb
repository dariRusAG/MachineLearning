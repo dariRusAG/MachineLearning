{
  "nbformat": 4,
  "nbformat_minor": 0,
  "metadata": {
    "celltoolbar": "Slideshow",
    "kernelspec": {
      "display_name": "Python 3",
      "language": "python",
      "name": "python3"
    },
    "language_info": {
      "codemirror_mode": {
        "name": "ipython",
        "version": 3
      },
      "file_extension": ".py",
      "mimetype": "text/x-python",
      "name": "python",
      "nbconvert_exporter": "python",
      "pygments_lexer": "ipython3",
      "version": "3.6.2"
    },
    "colab": {
      "provenance": [],
      "include_colab_link": true
    }
  },
  "cells": [
    {
      "cell_type": "markdown",
      "metadata": {
        "id": "view-in-github",
        "colab_type": "text"
      },
      "source": [
        "<a href=\"https://colab.research.google.com/github/dariRusAG/MachineLearning/blob/main/%D0%9B%D0%B8%D0%BD%D0%B5%D0%B9%D0%BD%D1%8B%D0%B5_%D0%BC%D0%B5%D1%82%D0%BE%D0%B4%D1%8B_%D0%919119_09_03_04%D0%BF%D1%80%D0%BE%D0%B3%D0%B8%D0%BD(1)_%D0%90%D0%B3%D0%B0%D0%BF%D0%BE%D0%B2%D0%B0_%D0%94%D0%B0%D1%80%D1%8C%D1%8F.ipynb\" target=\"_parent\"><img src=\"https://colab.research.google.com/assets/colab-badge.svg\" alt=\"Open In Colab\"/></a>"
      ]
    },
    {
      "cell_type": "markdown",
      "metadata": {
        "id": "u6OB5vFDhLXH"
      },
      "source": [
        "# Задание 3. Линейные методы классификации\n",
        "\n",
        "1. Задание выполнить в среде Google Colaboratory, сдать в Teams данный файл.\n",
        "2. Использовать выбранную и закрепленную за вами выборку данных (датасет).\n",
        "3. Разбить выборку на обучающую и контрольную в пропорциях 80%-20% или 70%-30%.\n",
        "4. Для метода опорных векторов (SVM) настроить параметры: *гиперпараметр регуляризации C*, *ядро*.\n",
        "5. Доп. балл: найти реализацию метода стохастического градиента (SG), исследовать им свою выборку.\n",
        "6. Материалы: [Машинное обучение (курс лекций, К.В. Воронцов). Метод опорных векторов](http://www.machinelearning.ru/wiki/index.php?title=%D0%9C%D0%B0%D1%88%D0%B8%D0%BD%D0%BD%D0%BE%D0%B5_%D0%BE%D0%B1%D1%83%D1%87%D0%B5%D0%BD%D0%B8%D0%B5_(%D0%BA%D1%83%D1%80%D1%81_%D0%BB%D0%B5%D0%BA%D1%86%D0%B8%D0%B9,_%D0%9A.%D0%92.%D0%92%D0%BE%D1%80%D0%BE%D0%BD%D1%86%D0%BE%D0%B2)#.D0.9C.D0.B5.D1.82.D0.BE.D0.B4_.D0.BE.D0.BF.D0.BE.D1.80.D0.BD.D1.8B.D1.85_.D0.B2.D0.B5.D0.BA.D1.82.D0.BE.D1.80.D0.BE.D0.B2)."
      ]
    },
    {
      "cell_type": "markdown",
      "source": [
        "## Выполнил студент\n",
        "\n",
        "Агапова Дарья Руслановна\n",
        "\n",
        "Б9119-09.03.04прогин(1)"
      ],
      "metadata": {
        "id": "-JdNxlNO1kH6"
      }
    },
    {
      "cell_type": "markdown",
      "source": [
        "## Выборка данных: Image Segmentation Data Set\n",
        "\n",
        "* Ссылка на выборку: https://archive.ics.uci.edu/ml/datasets/Image+Segmentation\n",
        "* Описание выборки: экземпляры выбраны случайным образом из базы данных 7 наружных изображений. Изображения были сегментированы вручную, чтобы создать классификацию для каждого пикселя. Каждый экземпляр представляет собой регион размером 3x3. Задача состоит в определении класса экземпляра.\n",
        "* Количество классов: 7\n",
        "* Количество признаков: 19\n",
        "* Типы признаков: real\n",
        "* Количество объектов: 2310"
      ],
      "metadata": {
        "id": "Eyn9cm701oCa"
      }
    },
    {
      "cell_type": "markdown",
      "metadata": {
        "id": "s3qWY0M5LA6r"
      },
      "source": [
        "## Библиотеки"
      ]
    },
    {
      "cell_type": "code",
      "metadata": {
        "id": "bv_hSi_zhLXx"
      },
      "source": [
        "import matplotlib.pyplot as plt\n",
        "from matplotlib import gridspec\n",
        "import seaborn as sns\n",
        "import pandas as pd\n",
        "from tqdm.notebook import tqdm\n",
        "\n",
        "from scipy.special import softmax\n",
        "from scipy.spatial.distance import cdist\n",
        "import numpy as np\n",
        "import torch\n",
        "\n",
        "from sklearn.preprocessing import StandardScaler\n",
        "from sklearn.svm import SVC, SVR\n",
        "from sklearn.metrics import classification_report\n",
        "from sklearn.model_selection import KFold, ParameterGrid\n",
        "from sklearn.datasets import make_classification, load_iris\n",
        "from sklearn.model_selection import train_test_split\n",
        "\n",
        "from mlxtend.plotting import plot_decision_regions"
      ],
      "execution_count": null,
      "outputs": []
    },
    {
      "cell_type": "code",
      "metadata": {
        "id": "CJzuwB8DhLXN"
      },
      "source": [
        "import warnings\n",
        "warnings.filterwarnings(\"ignore\")"
      ],
      "execution_count": null,
      "outputs": []
    },
    {
      "cell_type": "markdown",
      "metadata": {
        "id": "MMnL0LRwUWwf"
      },
      "source": [
        "## Метод опорных векторов (SVM)"
      ]
    },
    {
      "cell_type": "code",
      "metadata": {
        "id": "JKKYjkqvRfgV",
        "colab": {
          "base_uri": "https://localhost:8080/"
        },
        "outputId": "c279b911-e517-430c-93a6-d939c7946588"
      },
      "source": [
        "from google.colab import drive\n",
        "drive.mount('/content/drive')\n",
        "data = pd.read_csv('/content/drive/MyDrive/MMO/segmentation.csv', names=[\"CLASSES\", \"REGION-CENTROID-COL\", \"REGION-CENTROID-ROW\", \"REGION-PIXEL-COUNT\", \"SHORT-LINE-DENSITY-5\", \"SHORT-LINE-DENSITY-2\", \"VEDGE-MEAN\", \"VEDGE-SD\", \"HEDGE-MEAN\", \"HEDGE-SD\", \"INTENSITY-MEAN\", \"RAWRED-MEAN\", \"RAWBLUE-MEAN\", \"RAWGREEN-MEAN\", \"EXRED-MEAN\", \"EXBLUE-MEAN\", \"EXGREEN-MEAN\", \"VALUE-MEAN\", \"SATURATION-MEAN\", \"HUE-MEAN\"], sep=\";\")\n",
        "\n",
        "X = data[data.columns[1:]]\n",
        "Y = data[data.columns[0]]\n",
        "\n",
        "X_train, X_test, Y_train, Y_test = train_test_split(X, Y, \n",
        "                                                    test_size=0.3, \n",
        "                                                    random_state=7)"
      ],
      "execution_count": null,
      "outputs": [
        {
          "output_type": "stream",
          "name": "stdout",
          "text": [
            "Drive already mounted at /content/drive; to attempt to forcibly remount, call drive.mount(\"/content/drive\", force_remount=True).\n"
          ]
        }
      ]
    },
    {
      "cell_type": "code",
      "metadata": {
        "id": "HgnbQdF4RgSM",
        "colab": {
          "base_uri": "https://localhost:8080/"
        },
        "outputId": "913631f3-62a6-40d0-a027-641bb5a02bc0"
      },
      "source": [
        "# Применение алгоритма классификации с найденными значениями параметров\n",
        "model = SVC(kernel=\"rbf\", C=176)\n",
        "model.fit(X_train, Y_train)\n",
        "\n",
        "# Accuracy — доля правильных ответов алгоритма\n",
        "print('Train: ', model.score(X_train, Y_train))\n",
        "print('Test : ', model.score(X_test, Y_test))\n",
        "print(classification_report(Y_test, model.predict(X_test)))"
      ],
      "execution_count": null,
      "outputs": [
        {
          "output_type": "stream",
          "name": "stdout",
          "text": [
            "Train:  0.9764996907854051\n",
            "Test :  0.963924963924964\n",
            "              precision    recall  f1-score   support\n",
            "\n",
            "   BRICKFACE       1.00      0.99      0.99        90\n",
            "      CEMENT       0.93      0.94      0.94       109\n",
            "     FOLIAGE       0.94      0.89      0.92        94\n",
            "       GRASS       1.00      0.99      1.00       104\n",
            "        PATH       1.00      1.00      1.00        97\n",
            "         SKY       1.00      1.00      1.00       105\n",
            "      WINDOW       0.88      0.93      0.90        94\n",
            "\n",
            "    accuracy                           0.96       693\n",
            "   macro avg       0.96      0.96      0.96       693\n",
            "weighted avg       0.96      0.96      0.96       693\n",
            "\n"
          ]
        }
      ]
    },
    {
      "cell_type": "markdown",
      "source": [
        "## Поиск идеальной кросс-валидации"
      ],
      "metadata": {
        "id": "Rkvx4fOO_BfI"
      }
    },
    {
      "cell_type": "code",
      "source": [
        "scores_train = []\n",
        "scores_test = []\n",
        "\n",
        "n_random_state = list(range(10))\n",
        "for random_state in n_random_state:\n",
        "  X_train, X_test, Y_train, Y_test = train_test_split(X, Y, \n",
        "                                                    test_size=0.3, \n",
        "                                                    random_state=random_state)\n",
        "  model = SVC(kernel=\"rbf\", C=176)\n",
        "  model.fit(X_train, Y_train)\n",
        "\n",
        "  scores_test.append(model.score(X_test, Y_test))\n",
        "  scores_train.append(model.score(X_train, Y_train))\n",
        "\n",
        "pd_scores_train = np.array(scores_train)\n",
        "pd_scores_test = np.array(scores_test)\n",
        "\n",
        "plt.plot(n_random_state, pd_scores_train, label='Train')\n",
        "plt.plot(n_random_state, pd_scores_test, label='Test')\n",
        "\n",
        "plt.legend(loc='best')\n",
        "plt.title('Зависимость результатов от разбиения')\n",
        "plt.xlabel('Разбиение выборки (random_state)')\n",
        "plt.ylabel('Частота правильных ответов')\n",
        "\n",
        "plt.grid()\n",
        "plt.show()"
      ],
      "metadata": {
        "colab": {
          "base_uri": "https://localhost:8080/",
          "height": 296
        },
        "id": "2AqT0BNxw3le",
        "outputId": "12cb137c-d67f-4a43-b59d-7706c204fa90"
      },
      "execution_count": null,
      "outputs": [
        {
          "output_type": "display_data",
          "data": {
            "text/plain": [
              "<Figure size 432x288 with 1 Axes>"
            ],
            "image/png": "[encoded data removed]"
          },
          "metadata": {
            "needs_background": "light"
          }
        }
      ]
    },
    {
      "cell_type": "markdown",
      "metadata": {
        "id": "WgbiCav_ZjrQ"
      },
      "source": [
        "### Зависимость результата от константы C"
      ]
    },
    {
      "cell_type": "markdown",
      "source": [
        "*Гиперпараметр регуляризации C* (от 1 до 200)."
      ],
      "metadata": {
        "id": "VHG0tmGU7aK4"
      }
    },
    {
      "cell_type": "code",
      "metadata": {
        "id": "NjLkhzBtW4w1",
        "colab": {
          "base_uri": "https://localhost:8080/"
        },
        "outputId": "44ee1df6-12a2-48ce-8743-6231ec10cc46"
      },
      "source": [
        "models = []\n",
        "scores_train = []\n",
        "scores_test = []\n",
        "C_values = list(range(1, 200))\n",
        "for local_C in C_values:\n",
        "    model = SVC(kernel=\"rbf\", C=local_C)\n",
        "    model.fit(X_train, Y_train)\n",
        "    models.append(model)\n",
        "    scores_test.append(model.score(X_test, Y_test))\n",
        "    scores_train.append(model.score(X_train, Y_train))\n",
        "\n",
        "max_elem = max(scores_test)\n",
        "print(max_elem, scores_test.index(max_elem))\n",
        "max_train = scores_train[scores_test.index(max_elem)]\n",
        "print('test:', max_elem * 100, 'train:', max_train * 100)"
      ],
      "execution_count": null,
      "outputs": [
        {
          "output_type": "stream",
          "name": "stdout",
          "text": [
            "0.9538239538239538 176\n",
            "test: 95.38239538239537 train: 96.84601113172542\n"
          ]
        }
      ]
    },
    {
      "cell_type": "code",
      "metadata": {
        "id": "9I5bNwu9XzzX",
        "colab": {
          "base_uri": "https://localhost:8080/",
          "height": 265
        },
        "outputId": "353a32f0-d2ae-4d4d-eb3f-6d6aad10410a"
      },
      "source": [
        "plt.plot(C_values, scores_train, label='Train')\n",
        "plt.plot(C_values, scores_test, label='Test')\n",
        "\n",
        "plt.legend(loc='best')\n",
        "plt.grid()\n",
        "plt.show()"
      ],
      "execution_count": null,
      "outputs": [
        {
          "output_type": "display_data",
          "data": {
            "text/plain": [
              "<Figure size 432x288 with 1 Axes>"
            ],
            "image/png": "[encoded data removed]"
          },
          "metadata": {
            "needs_background": "light"
          }
        }
      ]
    },
    {
      "cell_type": "markdown",
      "metadata": {
        "id": "uhTZpEclhSxt"
      },
      "source": [
        "Лучшее значение константы C = 176\n",
        "\n",
        "Качество на обучающей выборке: 96.85 %\n",
        "\n",
        "Качество на контрольной выборке: 95.38 %"
      ]
    },
    {
      "cell_type": "markdown",
      "metadata": {
        "id": "3nrqoFuXaoDO"
      },
      "source": [
        "###Зависимость результата от ядра"
      ]
    },
    {
      "cell_type": "markdown",
      "source": [
        "*Ядро*: линейное (linear), ядро RBF (rbf), полиномиальное (poly), сигмоидальное (sigmoid).\n"
      ],
      "metadata": {
        "id": "ESlG2nlu7ggI"
      }
    },
    {
      "cell_type": "code",
      "metadata": {
        "id": "glPt1KvPZyTJ"
      },
      "source": [
        "models = []\n",
        "scores_train = []\n",
        "scores_test = []\n",
        "# kernels = ('linear', 'poly', 'rbf', 'sigmoid') \n",
        "# sigmoid и poly показали наихудшие результаты, для уточнения данных, рассмотрим без них\n",
        "kernels = ('linear', 'rbf')\n",
        "for local_kernel in kernels:\n",
        "    model = SVC(kernel=local_kernel, C=176)\n",
        "    model.fit(X_train, Y_train)\n",
        "    models.append(model)\n",
        "    scores_test.append(model.score(X_test, Y_test))\n",
        "    scores_train.append(model.score(X_train, Y_train))"
      ],
      "execution_count": null,
      "outputs": []
    },
    {
      "cell_type": "code",
      "source": [
        "max_elem = max(scores_test)\n",
        "max_train = scores_train[scores_test.index(max_elem)]\n",
        "print('test:', max_elem * 100, 'train:', max_train * 100)"
      ],
      "metadata": {
        "colab": {
          "base_uri": "https://localhost:8080/"
        },
        "id": "UgiT8sCq6afL",
        "outputId": "c85a1564-3e57-4b1b-c4a9-1fa51bb05267"
      },
      "execution_count": null,
      "outputs": [
        {
          "output_type": "stream",
          "name": "stdout",
          "text": [
            "test: 95.23809523809523 train: 96.84601113172542\n"
          ]
        }
      ]
    },
    {
      "cell_type": "code",
      "metadata": {
        "id": "5ID88Yg4aPWZ",
        "colab": {
          "base_uri": "https://localhost:8080/",
          "height": 268
        },
        "outputId": "451054b8-c259-4704-abfa-e75c08e0df11"
      },
      "source": [
        "plt.plot(kernels, scores_train, label='Train')\n",
        "plt.plot(kernels, scores_test, label='Test')\n",
        "\n",
        "plt.legend(loc='best')\n",
        "plt.grid()\n",
        "plt.show()"
      ],
      "execution_count": null,
      "outputs": [
        {
          "output_type": "display_data",
          "data": {
            "text/plain": [
              "<Figure size 432x288 with 1 Axes>"
            ],
            "image/png": "[encoded data removed]"
          },
          "metadata": {
            "needs_background": "light"
          }
        }
      ]
    },
    {
      "cell_type": "markdown",
      "source": [
        "Лучшим ядром является rbf\n",
        "\n",
        "Качество на обучающей выборке: 96.85 %\n",
        "\n",
        "Качество на контрольной выборке: 95.24 %"
      ],
      "metadata": {
        "id": "aDrwfKK736Er"
      }
    },
    {
      "cell_type": "markdown",
      "source": [
        "## Метод стохастического градиента (SG)\n"
      ],
      "metadata": {
        "id": "VoKSHciA4WjJ"
      }
    },
    {
      "cell_type": "markdown",
      "source": [
        "**Задание на дополнительный балл**.\n",
        "\n",
        "Самостоятельно найти реализацию и исследовать свою выборку данных.\n",
        "\n",
        "Материалы: [Машинное обучение (курс лекций, К.В. Воронцов). Линейный классификатор и стохастический градиент](http://www.machinelearning.ru/wiki/index.php?title=%D0%9C%D0%B0%D1%88%D0%B8%D0%BD%D0%BD%D0%BE%D0%B5_%D0%BE%D0%B1%D1%83%D1%87%D0%B5%D0%BD%D0%B8%D0%B5_(%D0%BA%D1%83%D1%80%D1%81_%D0%BB%D0%B5%D0%BA%D1%86%D0%B8%D0%B9,_%D0%9A.%D0%92.%D0%92%D0%BE%D1%80%D0%BE%D0%BD%D1%86%D0%BE%D0%B2)#.D0.9B.D0.B8.D0.BD.D0.B5.D0.B9.D0.BD.D1.8B.D0.B9_.D0.BA.D0.BB.D0.B0.D1.81.D1.81.D0.B8.D1.84.D0.B8.D0.BA.D0.B0.D1.82.D0.BE.D1.80_.D0.B8_.D1.81.D1.82.D0.BE.D1.85.D0.B0.D1.81.D1.82.D0.B8.D1.87.D0.B5.D1.81.D0.BA.D0.B8.D0.B9_.D0.B3.D1.80.D0.B0.D0.B4.D0.B8.D0.B5.D0.BD.D1.82)"
      ],
      "metadata": {
        "id": "xL5yXnCw44Nu"
      }
    },
    {
      "cell_type": "code",
      "source": [
        "from sklearn.linear_model import SGDClassifier\n",
        "\n",
        "clf = SGDClassifier(max_iter=80, random_state=34)\n",
        "clf.fit(X_train, Y_train)\n",
        "\n",
        "print('Train: ', clf.score(X_train, Y_train))\n",
        "print('Test : ', clf.score(X_test, Y_test))\n",
        "print(classification_report(Y_test, clf.predict(X_test)))"
      ],
      "metadata": {
        "id": "osdk-wwd4bSR",
        "colab": {
          "base_uri": "https://localhost:8080/"
        },
        "outputId": "42119095-34d3-4543-ad80-9f241cf6517b"
      },
      "execution_count": null,
      "outputs": [
        {
          "output_type": "stream",
          "name": "stdout",
          "text": [
            "Train:  0.8750773036487323\n",
            "Test :  0.86002886002886\n",
            "              precision    recall  f1-score   support\n",
            "\n",
            "   BRICKFACE       1.00      0.97      0.99       103\n",
            "      CEMENT       0.62      0.91      0.74       103\n",
            "     FOLIAGE       0.81      0.84      0.83       102\n",
            "       GRASS       1.00      0.99      0.99        88\n",
            "        PATH       0.91      0.87      0.89        97\n",
            "         SKY       0.98      0.98      0.98        97\n",
            "      WINDOW       0.85      0.49      0.62       103\n",
            "\n",
            "    accuracy                           0.86       693\n",
            "   macro avg       0.88      0.86      0.86       693\n",
            "weighted avg       0.88      0.86      0.86       693\n",
            "\n"
          ]
        }
      ]
    },
    {
      "cell_type": "markdown",
      "source": [
        "## Поиск идеального random_state для SG"
      ],
      "metadata": {
        "id": "KoU---5TFt9L"
      }
    },
    {
      "cell_type": "code",
      "source": [
        "from sklearn.linear_model import SGDClassifier\n",
        "test_accuracy = []\n",
        "random_state_range = range(30, 40)\n",
        "\n",
        "for random_state in random_state_range:\n",
        "    model_ = SGDClassifier(max_iter=100, random_state=random_state)\n",
        "    model_.fit(X_train, Y_train) \n",
        "    test_accuracy.append(model_.score(X_test, Y_test))\n",
        "\n",
        "plt.plot(random_state_range, test_accuracy)\n",
        "\n",
        "plt.grid()\n",
        "plt.show()"
      ],
      "metadata": {
        "colab": {
          "base_uri": "https://localhost:8080/",
          "height": 265
        },
        "id": "ots5t9L2A3B1",
        "outputId": "13589312-bbe2-4775-9223-98cd1e1bde34"
      },
      "execution_count": null,
      "outputs": [
        {
          "output_type": "display_data",
          "data": {
            "text/plain": [
              "<Figure size 432x288 with 1 Axes>"
            ],
            "image/png": "[encoded data removed]"
          },
          "metadata": {
            "needs_background": "light"
          }
        }
      ]
    },
    {
      "cell_type": "markdown",
      "source": [
        "## Поиск идеального max_iter для SG"
      ],
      "metadata": {
        "id": "DCJ6nf2uF2A6"
      }
    },
    {
      "cell_type": "code",
      "source": [
        "test_accuracy = []\n",
        "iter_range = range(1, 100)\n",
        "\n",
        "for max_iter in iter_range:\n",
        "  model_ = SGDClassifier(max_iter=max_iter, random_state=34)\n",
        "  model_.fit(X_train, Y_train)\n",
        "  test_accuracy.append(model_.score(X_test, Y_test))\n",
        "\n",
        "plt.plot(iter_range, test_accuracy)\n",
        "\n",
        "plt.grid()\n",
        "plt.show()\n",
        "\n",
        "print(test_accuracy.index(max(test_accuracy)))"
      ],
      "metadata": {
        "colab": {
          "base_uri": "https://localhost:8080/",
          "height": 282
        },
        "id": "9ZncmyJ47kiZ",
        "outputId": "cdb9cf88-e2be-4c7a-8b9e-810a52ccda62"
      },
      "execution_count": null,
      "outputs": [
        {
          "output_type": "display_data",
          "data": {
            "text/plain": [
              "<Figure size 432x288 with 1 Axes>"
            ],
            "image/png": "[encoded data removed]"
          },
          "metadata": {
            "needs_background": "light"
          }
        },
        {
          "output_type": "stream",
          "name": "stdout",
          "text": [
            "80\n"
          ]
        }
      ]
    },
    {
      "cell_type": "markdown",
      "metadata": {
        "id": "aNoJTFDkhho9"
      },
      "source": [
        "---\n",
        "\n",
        "\n",
        "# Заключение\n",
        "\n",
        "## 1. Метод опорных векторов (SVM)\n",
        "\n",
        "* Лучшее значение константы C = 176\n",
        "* Лучшим ядром является rbf\n",
        "* Качество на обучающей выборке: 97.65 %\n",
        "* Качество на контрольной выборке: 96.39 %\n",
        "\n",
        "## 2. Метод стохастического градиента (SG)\n",
        "\n",
        "* random_state = 34\n",
        "* max_iter = 80\n",
        "* Качество на обучающей выборке: 87.51 %\n",
        "* Качество на контрольной выборке: 86.00 %\n",
        "\n",
        "## 3. Вывод\n",
        "\n",
        "Лучший результат продемонстрировал метод опорных векторов (SVM), показав лучший результат на кантрольной выборке.\n"
      ]
    }
  ]
}