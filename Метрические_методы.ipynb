{
  "nbformat": 4,
  "nbformat_minor": 0,
  "metadata": {
    "celltoolbar": "Slideshow",
    "kernelspec": {
      "display_name": "Python 3",
      "language": "python",
      "name": "python3"
    },
    "language_info": {
      "codemirror_mode": {
        "name": "ipython",
        "version": 3
      },
      "file_extension": ".py",
      "mimetype": "text/x-python",
      "name": "python",
      "nbconvert_exporter": "python",
      "pygments_lexer": "ipython3",
      "version": "3.6.2"
    },
    "colab": {
      "provenance": [],
      "include_colab_link": true
    }
  },
  "cells": [
    {
      "cell_type": "markdown",
      "metadata": {
        "id": "view-in-github",
        "colab_type": "text"
      },
      "source": [
        "<a href=\"https://colab.research.google.com/github/dariRusAG/MachineLearning/blob/main/%D0%9C%D0%B5%D1%82%D1%80%D0%B8%D1%87%D0%B5%D1%81%D0%BA%D0%B8%D0%B5_%D0%BC%D0%B5%D1%82%D0%BE%D0%B4%D1%8B_%D0%919119_09_03_04%D0%BF%D1%80%D0%BE%D0%B3%D0%B8%D0%BD(1)_%D0%90%D0%B3%D0%B0%D0%BF%D0%BE%D0%B2%D0%B0_%D0%94%D0%B0%D1%80%D1%8C%D1%8F.ipynb\" target=\"_parent\"><img src=\"https://colab.research.google.com/assets/colab-badge.svg\" alt=\"Open In Colab\"/></a>"
      ]
    },
    {
      "cell_type": "markdown",
      "metadata": {
        "id": "oq3GeRTpjGSF"
      },
      "source": [
        "# Задание 1. Метрические методы классификации\n",
        "\n",
        "1. Задание выполнить в среде Google Colaboratory, сдать в Teams данный файл.\n",
        "2. Использовать выбранную и закрепленную за вами выборку данных (датасет).\n",
        "3. Разбить выборку на обучающую и контрольную в пропорциях 80%-20% или 70%-30%.\n",
        "4. Для метода k ближайших соседей настроить параметр \"Число ближайших соседей\" (k).\n",
        "5. Для метода окна Парзена настроить параметр \"Ширина окна\" (h).\n",
        "6. Рекомендуется визуализировать результаты проведения экспериментов.\n",
        "7. Материалы: [Машинное обучение (курс лекций, К.В. Воронцов). Метрические методы](http://www.machinelearning.ru/wiki/index.php?title=%D0%9C%D0%B0%D1%88%D0%B8%D0%BD%D0%BD%D0%BE%D0%B5_%D0%BE%D0%B1%D1%83%D1%87%D0%B5%D0%BD%D0%B8%D0%B5_(%D0%BA%D1%83%D1%80%D1%81_%D0%BB%D0%B5%D0%BA%D1%86%D0%B8%D0%B9,_%D0%9A.%D0%92.%D0%92%D0%BE%D1%80%D0%BE%D0%BD%D1%86%D0%BE%D0%B2)#.D0.9C.D0.B5.D1.82.D1.80.D0.B8.D1.87.D0.B5.D1.81.D0.BA.D0.B8.D0.B5_.D0.BC.D0.B5.D1.82.D0.BE.D0.B4.D1.8B_.D0.BA.D0.BB.D0.B0.D1.81.D1.81.D0.B8.D1.84.D0.B8.D0.BA.D0.B0.D1.86.D0.B8.D0.B8_.D0.B8_.D1.80.D0.B5.D0.B3.D1.80.D0.B5.D1.81.D1.81.D0.B8.D0.B8)"
      ]
    },
    {
      "cell_type": "markdown",
      "source": [
        "## Выполнил студент\n",
        "\n",
        "Агапова Дарья Руслановна\n",
        "\n",
        "Б9119-09.03.04прогин(1)"
      ],
      "metadata": {
        "id": "lllq_1MpcVa-"
      }
    },
    {
      "cell_type": "markdown",
      "metadata": {
        "id": "-MTdRn9SjGSN"
      },
      "source": [
        "## Библиотеки"
      ]
    },
    {
      "cell_type": "code",
      "metadata": {
        "id": "hn_j94qCjGSP"
      },
      "source": [
        "import matplotlib.pyplot as plt\n",
        "from matplotlib import gridspec\n",
        "import seaborn as sns\n",
        "import pandas as pd\n",
        "from tqdm.notebook import tqdm\n",
        "\n",
        "from scipy.special import softmax\n",
        "from scipy.spatial.distance import cdist\n",
        "import numpy as np\n",
        "\n",
        "from sklearn.datasets import make_classification, load_iris, load_wine\n",
        "from sklearn.metrics import classification_report\n",
        "from sklearn.model_selection import KFold, ParameterGrid, GridSearchCV, train_test_split\n",
        "from sklearn.neighbors import KNeighborsClassifier, KernelDensity\n",
        "from sklearn.base import BaseEstimator, ClassifierMixin\n",
        "\n",
        "from mlxtend.plotting import plot_decision_regions"
      ],
      "execution_count": null,
      "outputs": []
    },
    {
      "cell_type": "code",
      "metadata": {
        "id": "vLJGVU6weqXd"
      },
      "source": [
        "import warnings\n",
        "warnings.filterwarnings(\"ignore\")"
      ],
      "execution_count": null,
      "outputs": []
    },
    {
      "cell_type": "markdown",
      "metadata": {
        "id": "XVSB9gdXg-5m"
      },
      "source": [
        "## Подключение выборки данных"
      ]
    },
    {
      "cell_type": "code",
      "source": [
        "# Файловый способ подключения выборки данных\n",
        "from google.colab import drive\n",
        "drive.mount('/content/drive')\n",
        "data = pd.read_csv('/content/drive/MyDrive/MMO/segmentation.csv', names=[\"CLASSES\", \"REGION-CENTROID-COL\", \"REGION-CENTROID-ROW\", \"REGION-PIXEL-COUNT\", \"SHORT-LINE-DENSITY-5\", \"SHORT-LINE-DENSITY-2\", \"VEDGE-MEAN\", \"VEDGE-SD\", \"HEDGE-MEAN\", \"HEDGE-SD\", \"INTENSITY-MEAN\", \"RAWRED-MEAN\", \"RAWBLUE-MEAN\", \"RAWGREEN-MEAN\", \"EXRED-MEAN\", \"EXBLUE-MEAN\", \"EXGREEN-MEAN\", \"VALUE-MEAN\", \"SATURATION-MEAN\", \"HUE-MEAN\"], sep=\";\")\n",
        "\n",
        "X = data[data.columns[1:]]\n",
        "Y = data[data.columns[0]]"
      ],
      "metadata": {
        "id": "TQygCPnX2TXm",
        "colab": {
          "base_uri": "https://localhost:8080/"
        },
        "outputId": "82c78206-0eda-44e6-8464-fe218e857e9b"
      },
      "execution_count": null,
      "outputs": [
        {
          "output_type": "stream",
          "name": "stdout",
          "text": [
            "Mounted at /content/drive\n"
          ]
        }
      ]
    },
    {
      "cell_type": "code",
      "source": [
        "X_train, X_test, Y_train, Y_test = train_test_split(X, Y,  \n",
        "                                                    test_size = 0.3,   # Процент элементов в контрольной выборке\n",
        "                                                    random_state = 0)  # Фиксация разбиения на обучение и контроль"
      ],
      "metadata": {
        "id": "yN-sJfqoVTeN"
      },
      "execution_count": null,
      "outputs": []
    },
    {
      "cell_type": "markdown",
      "metadata": {
        "id": "SZ-J8Gc9jGS7"
      },
      "source": [
        "## Метод ближайшего соседа (1NN)"
      ]
    },
    {
      "cell_type": "code",
      "metadata": {
        "id": "gpQOhoZyjGS_",
        "colab": {
          "base_uri": "https://localhost:8080/"
        },
        "outputId": "3fbdb97e-a72d-46bf-a2bc-23e9b1c4873a"
      },
      "source": [
        "model = KNeighborsClassifier(n_neighbors = 1)\n",
        "model.fit(X_train, Y_train)"
      ],
      "execution_count": null,
      "outputs": [
        {
          "output_type": "execute_result",
          "data": {
            "text/plain": [
              "KNeighborsClassifier(n_neighbors=1)"
            ]
          },
          "metadata": {},
          "execution_count": 6
        }
      ]
    },
    {
      "cell_type": "code",
      "metadata": {
        "id": "ELCW-Yv2jqrR",
        "colab": {
          "base_uri": "https://localhost:8080/"
        },
        "outputId": "4691a93a-6e25-4c32-808d-4925f3fa69cb"
      },
      "source": [
        "# Доля правильных ответов метода\n",
        "print('Обучающая выборка   : ', model.score(X_train, Y_train))\n",
        "print('Контрольная выборка : ', model.score(X_test, Y_test))\n",
        "print('Процент ошибок на обучение : ', (1 - model.score(X_train, Y_train)) * 100, '%')\n",
        "print('Процент ошибок на контроле : ', (1 - model.score(X_test, Y_test)) * 100, '%')"
      ],
      "execution_count": null,
      "outputs": [
        {
          "output_type": "stream",
          "name": "stdout",
          "text": [
            "Обучающая выборка   :  1.0\n",
            "Контрольная выборка :  0.948051948051948\n",
            "Процент ошибок на обучение :  0.0 %\n",
            "Процент ошибок на контроле :  5.1948051948051965 %\n"
          ]
        }
      ]
    },
    {
      "cell_type": "markdown",
      "metadata": {
        "id": "KakfzTcrjGTX"
      },
      "source": [
        "## Метод k-ближайших соседей (KNN)"
      ]
    },
    {
      "cell_type": "code",
      "metadata": {
        "id": "rE-02uUAjGTZ",
        "colab": {
          "base_uri": "https://localhost:8080/",
          "height": 729
        },
        "outputId": "8a332703-7f39-421e-d69f-238b50d264ae"
      },
      "source": [
        "print('K\\t', 'Обучение\\t\\t', 'Контроль');\n",
        "\n",
        "models = []\n",
        "train_accuracy = []\n",
        "test_accuracy = []\n",
        "max_k = 20\n",
        "for n_neighbors in range(1, max_k):\n",
        "    model = KNeighborsClassifier(n_neighbors = n_neighbors)\n",
        "    model.fit(X_train, Y_train)\n",
        "    models.append(model)\n",
        "    print(n_neighbors, '\\t', model.score(X_train, Y_train), end = '')\n",
        "    a = str(model.score(X_train, Y_train))\n",
        "    if len(a) < 15:\n",
        "        print('\\t\\t', end = '')\n",
        "    print('\\t', model.score(X_test, Y_test))   \n",
        "    train_accuracy.append(model.score(X_train, Y_train))\n",
        "    test_accuracy.append(model.score(X_test, Y_test))\n",
        "best_k = test_accuracy.index(max(test_accuracy)) + 1\n",
        "print('Лучшее число соседей (k)   :', best_k)\n",
        "print('Процент ошибок на обучении :', (1-train_accuracy[best_k - 1]) * 100, '%')\n",
        "print('Процент ошибок на контроле :', (1-test_accuracy[best_k - 1]) * 100, '%')\n",
        "plt.plot(range(1,20),test_accuracy)\n",
        "plt.title('Leave-one-out error')\n",
        "plt.xlabel('Количество соседей (k)')\n",
        "plt.ylabel('Частота правильных ответов')"
      ],
      "execution_count": null,
      "outputs": [
        {
          "output_type": "stream",
          "name": "stdout",
          "text": [
            "K\t Обучение\t\t Контроль\n",
            "1 \t 1.0\t\t\t 0.948051948051948\n",
            "2 \t 0.9789734075448361\t 0.9336219336219336\n",
            "3 \t 0.9696969696969697\t 0.9206349206349206\n",
            "4 \t 0.9672232529375386\t 0.9206349206349206\n",
            "5 \t 0.9653679653679653\t 0.9191919191919192\n",
            "6 \t 0.9579468150896723\t 0.9018759018759018\n",
            "7 \t 0.9523809523809523\t 0.911976911976912\n",
            "8 \t 0.9443413729128015\t 0.9148629148629148\n",
            "9 \t 0.9418676561533704\t 0.911976911976912\n",
            "10 \t 0.9406307977736549\t 0.9148629148629148\n",
            "11 \t 0.9344465058750773\t 0.9047619047619048\n",
            "12 \t 0.9294990723562152\t 0.9033189033189033\n",
            "13 \t 0.9276437847866419\t 0.9033189033189033\n",
            "14 \t 0.9251700680272109\t 0.9004329004329005\n",
            "15 \t 0.9233147804576376\t 0.8946608946608947\n",
            "16 \t 0.9233147804576376\t 0.8917748917748918\n",
            "17 \t 0.9189857761286333\t 0.8932178932178932\n",
            "18 \t 0.9202226345083488\t 0.8917748917748918\n",
            "19 \t 0.9140383426097711\t 0.8888888888888888\n",
            "Лучшее число соседей (k)   : 1\n",
            "Процент ошибок на обучении : 0.0 %\n",
            "Процент ошибок на контроле : 5.1948051948051965 %\n"
          ]
        },
        {
          "output_type": "execute_result",
          "data": {
            "text/plain": [
              "Text(0, 0.5, 'Частота правильных ответов')"
            ]
          },
          "metadata": {},
          "execution_count": 9
        },
        {
          "output_type": "display_data",
          "data": {
            "text/plain": [
              "<Figure size 432x288 with 1 Axes>"
            ],
            "image/png": "[encoded data removed]"
          },
          "metadata": {
            "needs_background": "light"
          }
        }
      ]
    },
    {
      "cell_type": "markdown",
      "source": [
        "### Метод k-ближайших соседей (KNN) в цикле"
      ],
      "metadata": {
        "id": "aINTVhyy9_2L"
      }
    },
    {
      "cell_type": "code",
      "source": [
        "for i in range(10):\n",
        "  X_train, X_test, Y_train, Y_test = train_test_split(X, Y,  \n",
        "                                                    test_size = 0.3,   # Процент элементов в контрольной выборке\n",
        "                                                    random_state = i)  # Фиксация разбиения на обучение и контроль\n",
        "  models = []\n",
        "  train_accuracy = []\n",
        "  test_accuracy = []\n",
        "  max_k = 20\n",
        "  for n_neighbors in range(1, max_k):\n",
        "      model = KNeighborsClassifier(n_neighbors = n_neighbors)\n",
        "      model.fit(X_train, Y_train)\n",
        "      models.append(model)\n",
        "      train_accuracy.append(model.score(X_train, Y_train))\n",
        "      test_accuracy.append(model.score(X_test, Y_test))\n",
        "  plt.plot(range(1,20),test_accuracy)\n",
        "  plt.title('Leave-one-out error')\n",
        "  plt.xlabel('Количество соседей (k)')\n",
        "  plt.ylabel('Частота правильных ответов')"
      ],
      "metadata": {
        "colab": {
          "base_uri": "https://localhost:8080/",
          "height": 235
        },
        "id": "cVeqgUIN-Nd9",
        "outputId": "8c4aec12-75d6-4b85-d21a-084b2641715f"
      },
      "execution_count": null,
      "outputs": [
        {
          "output_type": "error",
          "ename": "NameError",
          "evalue": "ignored",
          "traceback": [
            "\u001b[0;31m---------------------------------------------------------------------------\u001b[0m",
            "\u001b[0;31mNameError\u001b[0m                                 Traceback (most recent call last)",
            "\u001b[0;32m<ipython-input-1-daed10a67a2c>\u001b[0m in \u001b[0;36m<module>\u001b[0;34m\u001b[0m\n\u001b[1;32m      1\u001b[0m \u001b[0;32mfor\u001b[0m \u001b[0mi\u001b[0m \u001b[0;32min\u001b[0m \u001b[0mrange\u001b[0m\u001b[0;34m(\u001b[0m\u001b[0;36m10\u001b[0m\u001b[0;34m)\u001b[0m\u001b[0;34m:\u001b[0m\u001b[0;34m\u001b[0m\u001b[0;34m\u001b[0m\u001b[0m\n\u001b[0;32m----> 2\u001b[0;31m   X_train, X_test, Y_train, Y_test = train_test_split(X, Y,  \n\u001b[0m\u001b[1;32m      3\u001b[0m                                                     \u001b[0mtest_size\u001b[0m \u001b[0;34m=\u001b[0m \u001b[0;36m0.3\u001b[0m\u001b[0;34m,\u001b[0m   \u001b[0;31m# Процент элементов в контрольной выборке\u001b[0m\u001b[0;34m\u001b[0m\u001b[0;34m\u001b[0m\u001b[0m\n\u001b[1;32m      4\u001b[0m                                                     random_state = i)  # Фиксация разбиения на обучение и контроль\n\u001b[1;32m      5\u001b[0m   \u001b[0mmodels\u001b[0m \u001b[0;34m=\u001b[0m \u001b[0;34m[\u001b[0m\u001b[0;34m]\u001b[0m\u001b[0;34m\u001b[0m\u001b[0;34m\u001b[0m\u001b[0m\n",
            "\u001b[0;31mNameError\u001b[0m: name 'train_test_split' is not defined"
          ]
        }
      ]
    },
    {
      "cell_type": "markdown",
      "source": [
        "## Метод окна Парзена (Parzen)"
      ],
      "metadata": {
        "id": "10yA4LRzZ_Qe"
      }
    },
    {
      "cell_type": "code",
      "source": [
        "class KDEClassifier(BaseEstimator, ClassifierMixin):\n",
        "    def __init__(self, bandwidth = 1.0, kernel = 'gaussian'):\n",
        "        self.bandwidth = bandwidth\n",
        "        self.kernel = kernel\n",
        "        \n",
        "    def fit(self, X, y):\n",
        "        self.classes_ = np.sort(np.unique(y))\n",
        "        training_sets = [X[y == yi] for yi in self.classes_]\n",
        "        self.models_ = [KernelDensity(bandwidth=self.bandwidth,\n",
        "                                      kernel=self.kernel).fit(Xi)\n",
        "                        for Xi in training_sets]\n",
        "        self.logpriors_ = [np.log(Xi.shape[0] / X.shape[0])\n",
        "                           for Xi in training_sets]\n",
        "        return self\n",
        "        \n",
        "    def predict_proba(self, X):\n",
        "        logprobs = np.array([model.score_samples(X)\n",
        "                             for model in self.models_]).T\n",
        "        result = np.exp(logprobs + self.logpriors_)\n",
        "        return result / result.sum(1, keepdims = True)\n",
        "        \n",
        "    def predict(self, X):\n",
        "        return self.classes_[np.argmax(self.predict_proba(X), 1)]\n",
        "\n",
        "print('K\\t', 'Обучение\\t\\t', 'Контроль', end = '')\n",
        "print()\n",
        "train_accuracy = []\n",
        "test_accuracy = []\n",
        "max_h = 30\n",
        "for i in range(1, max_h):\n",
        "  model = KDEClassifier(bandwidth = i)\n",
        "  model.fit(X_train, Y_train)\n",
        "  models.append(model)\n",
        "  train_accuracy.append(model.score(X_train, Y_train))\n",
        "  print(i, '\\t', model.score(X_train, Y_train), end = '')\n",
        "  a = str(model.score(X_train, Y_train))\n",
        "  if len(a) < 15:\n",
        "      print('\\t\\t', end = '')\n",
        "  test_accuracy.append(model.score(X_test, Y_test))\n",
        "  print('\\t', model.score(X_test, Y_test))    \n",
        "best_h = test_accuracy.index(max(test_accuracy)) + 1\n",
        "print('Лучшая ширина окна (h)     : ', best_h)\n",
        "print('Процент ошибок на обучении : ', (1-train_accuracy[best_h - 1]) * 100, '%')\n",
        "print('Процент ошибок на контроле : ', (1-test_accuracy[best_h - 1]) * 100, '%')\n",
        "plt.plot(range(1,30),test_accuracy)\n",
        "plt.title('Leave-one-out error')\n",
        "plt.xlabel('Ширина окна (h)')\n",
        "plt.ylabel('Частота правильных ответов')"
      ],
      "metadata": {
        "id": "HWYhLExGZ_ve",
        "colab": {
          "base_uri": "https://localhost:8080/",
          "height": 910
        },
        "outputId": "34a02157-c43a-4350-d6a0-810252c10660"
      },
      "execution_count": null,
      "outputs": [
        {
          "output_type": "stream",
          "name": "stdout",
          "text": [
            "K\t Обучение\t\t Контроль\n",
            "1 \t 1.0\t\t\t 0.9018759018759018\n",
            "2 \t 1.0\t\t\t 0.9321789321789322\n",
            "3 \t 0.9987631416202845\t 0.9494949494949495\n",
            "4 \t 0.9975262832405689\t 0.9538239538239538\n",
            "5 \t 0.9950525664811379\t 0.948051948051948\n",
            "6 \t 0.9925788497217068\t 0.9538239538239538\n",
            "7 \t 0.9901051329622759\t 0.9552669552669553\n",
            "8 \t 0.9882498453927026\t 0.9552669552669553\n",
            "9 \t 0.9845392702535559\t 0.9552669552669553\n",
            "10 \t 0.9826839826839827\t 0.9494949494949495\n",
            "11 \t 0.9734075448361162\t 0.9408369408369408\n",
            "12 \t 0.9653679653679653\t 0.9307359307359307\n",
            "13 \t 0.9598021026592455\t 0.9235209235209235\n",
            "14 \t 0.948051948051948\t 0.9062049062049062\n",
            "15 \t 0.935064935064935\t 0.898989898989899\n",
            "16 \t 0.9282622139764997\t 0.8903318903318903\n",
            "17 \t 0.9189857761286333\t 0.8874458874458875\n",
            "18 \t 0.9059987631416203\t 0.8831168831168831\n",
            "19 \t 0.8948670377241806\t 0.8744588744588745\n",
            "20 \t 0.8837353123067409\t 0.8672438672438673\n",
            "21 \t 0.8744588744588745\t 0.862914862914863\n",
            "22 \t 0.8695114409400123\t 0.8585858585858586\n",
            "23 \t 0.8614718614718615\t 0.8528138528138528\n",
            "24 \t 0.8571428571428571\t 0.8484848484848485\n",
            "25 \t 0.8540507111935683\t 0.8484848484848485\n",
            "26 \t 0.8484848484848485\t 0.847041847041847\n",
            "27 \t 0.8460111317254174\t 0.8441558441558441\n",
            "28 \t 0.8435374149659864\t 0.8427128427128427\n",
            "29 \t 0.8404452690166976\t 0.8412698412698413\n",
            "Лучшая ширина окна (h)     :  7\n",
            "Процент ошибок на обучении :  0.9894867037724131 %\n",
            "Процент ошибок на контроле :  4.473304473304474 %\n"
          ]
        },
        {
          "output_type": "execute_result",
          "data": {
            "text/plain": [
              "Text(0, 0.5, 'Частота правильных ответов')"
            ]
          },
          "metadata": {},
          "execution_count": 13
        },
        {
          "output_type": "display_data",
          "data": {
            "text/plain": [
              "<Figure size 432x288 with 1 Axes>"
            ],
            "image/png": "[encoded data removed]"
          },
          "metadata": {
            "needs_background": "light"
          }
        }
      ]
    },
    {
      "cell_type": "markdown",
      "source": [
        "### Метод окна Парзена (Parzen) в цикле"
      ],
      "metadata": {
        "id": "XW6pPqOrBh2r"
      }
    },
    {
      "cell_type": "code",
      "source": [
        "class KDEClassifier(BaseEstimator, ClassifierMixin):\n",
        "    def __init__(self, bandwidth = 1.0, kernel = 'gaussian'):\n",
        "        self.bandwidth = bandwidth\n",
        "        self.kernel = kernel\n",
        "        \n",
        "    def fit(self, X, y):\n",
        "        self.classes_ = np.sort(np.unique(y))\n",
        "        training_sets = [X[y == yi] for yi in self.classes_]\n",
        "        self.models_ = [KernelDensity(bandwidth=self.bandwidth,\n",
        "                                      kernel=self.kernel).fit(Xi)\n",
        "                        for Xi in training_sets]\n",
        "        self.logpriors_ = [np.log(Xi.shape[0] / X.shape[0])\n",
        "                           for Xi in training_sets]\n",
        "        return self\n",
        "        \n",
        "    def predict_proba(self, X):\n",
        "        logprobs = np.array([model.score_samples(X)\n",
        "                             for model in self.models_]).T\n",
        "        result = np.exp(logprobs + self.logpriors_)\n",
        "        return result / result.sum(1, keepdims = True)\n",
        "        \n",
        "    def predict(self, X):\n",
        "        return self.classes_[np.argmax(self.predict_proba(X), 1)]\n",
        "\n",
        "for i in range(10):\n",
        "  X_train, X_test, Y_train, Y_test = train_test_split(X, Y,  \n",
        "                                                    test_size = 0.3,   # Процент элементов в контрольной выборке\n",
        "                                                    random_state = i)  # Фиксация разбиения на обучение и контроль\n",
        "  train_accuracy = []\n",
        "  test_accuracy = []\n",
        "  max_h = 30\n",
        "  for i in range(1, max_h):\n",
        "    model = KDEClassifier(bandwidth = i)\n",
        "    model.fit(X_train, Y_train)\n",
        "    models.append(model)\n",
        "    train_accuracy.append(model.score(X_train, Y_train))\n",
        "    test_accuracy.append(model.score(X_test, Y_test)) \n",
        "  plt.plot(range(1,30),test_accuracy)\n",
        "  plt.title('Leave-one-out error')\n",
        "  plt.xlabel('Ширина окна (h)')\n",
        "  plt.ylabel('Частота правильных ответов')"
      ],
      "metadata": {
        "colab": {
          "base_uri": "https://localhost:8080/",
          "height": 295
        },
        "id": "UR-t19WkBjrG",
        "outputId": "b2aaf7d9-a8e8-46db-ce1c-843c675f98b0"
      },
      "execution_count": null,
      "outputs": [
        {
          "output_type": "display_data",
          "data": {
            "text/plain": [
              "<Figure size 432x288 with 1 Axes>"
            ],
            "image/png": "[encoded data removed]"
          },
          "metadata": {
            "needs_background": "light"
          }
        }
      ]
    },
    {
      "cell_type": "markdown",
      "metadata": {
        "id": "tgIEX3aWfNVs"
      },
      "source": [
        "---\n",
        "\n",
        "##Заключение\n",
        "\n",
        "###1. Выборка данных (датасет)\n",
        "\n",
        "* Ссылка на выборку: https://archive.ics.uci.edu/ml/datasets/Image+Segmentation\n",
        "* Описание выборки: экземпляры выбраны случайным образом из базы данных 7 наружных изображений. Изображения были сегментированы вручную, чтобы создать классификацию для каждого пикселя. Каждый экземпляр представляет собой регион размером 3x3. Задача состоит в определении класса экземпляра.\n",
        "* Количество классов: 7\n",
        "* Количество признаков: 19\n",
        "* Количество объектов: 2310\n",
        "\n",
        "###2. Метод ближайшего соседа (1NN)\n",
        "\n",
        "Описание эксперимента: алгоритм присваивает любому новому наблюдению метку класса ближайшего объекта. \n",
        "\n",
        "Результаты эксперимента:\n",
        "* Процент ошибок на обучении: 0\n",
        "* Процент ошибок на контроле: 5\n",
        "\n",
        "###3. Метод k ближайших соседей (KNN)\n",
        "\n",
        "Работа алгоритма: \n",
        "- Относит объект к тому классу, у которого максимальна сумма весов его ближайших k соседей.\n",
        "- Вес зависит только от номера соседа.\n",
        "\n",
        "Описание эксперимента: алгоритм ищет лучшее количество соседей k (такое, чтобы сохранить компромисс между точностью и обобщающей способностью модели) на обучающей выборке, затем на контрольной выборке присваивает любому новому наблюдению метку класса k ближайших соседей-объектов.\n",
        "\n",
        "Результаты эксперимента:\n",
        "* Лучшее количество соседей: 1\n",
        "* Процент ошибок на обучении: 0\n",
        "* Процент ошибок на контроле: 5\n",
        "\n",
        "###4. Метод окна Парзена (Parzen)\n",
        "\n",
        "Работа алгоритма: \n",
        "- Относит объект к тому классу, у которого максимальна сумма весов соседей, входящих в ограниченную область.\n",
        "- Весовая функция определяется как функция от расстояния между классифицируемым объектом и его соседями.\n",
        "\n",
        "Описание эксперимента: алгоритм ищет лучшую ширину окна h (дальше которой объекты рассматриваться не будут) на обучающей выборке, затем на контрольной выборке присваивает любому новому наблюдению метку класса соседей, входящих в ширину h.\n",
        "\n",
        "Результаты эксперимента:\n",
        "* Лучшая ширина окна: 7\n",
        "* Процент ошибок на обучении: 1\n",
        "* Процент ошибок на контроле: 4\n",
        "\n",
        "###5. Вывод\n",
        "\n",
        "Лучший результат продемонстрировал метод окна Парзена - наименьший процент ошибок на контроле."
      ]
    }
  ]
}
